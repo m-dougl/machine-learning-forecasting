{
 "cells": [
  {
   "cell_type": "markdown",
   "metadata": {},
   "source": [
    "### Importing libraries"
   ]
  },
  {
   "cell_type": "code",
   "execution_count": null,
   "metadata": {},
   "outputs": [],
   "source": [
    "import darts\n",
    "import torch\n",
    "import pandas as pd \n",
    "import numpy as np\n",
    "import warnings\n",
    "import matplotlib.pyplot as plt \n",
    "from pandas.plotting import autocorrelation_plot\n",
    "from darts.timeseries import TimeSeries\n",
    "from darts.utils.timeseries_generation import gaussian_timeseries\n",
    "from darts.utils.timeseries_generation import random_walk_timeseries\n",
    "from darts.dataprocessing.transformers.scaler import Scaler\n",
    "from darts.utils.statistics import plot_hist\n",
    "\n",
    "# jupyter notebook settings\n",
    "plt.style.use('seaborn')\n",
    "warnings.filterwarnings(\"ignore\")\n",
    "np.random.seed(42)    # reproducibility\n",
    "torch.manual_seed(42) # reproducibility\n",
    "random_state = 42\n",
    "%matplotlib inline"
   ]
  },
  {
   "cell_type": "markdown",
   "metadata": {},
   "source": [
    "### Generate Dataset and implement statistical analysis"
   ]
  },
  {
   "cell_type": "code",
   "execution_count": null,
   "metadata": {},
   "outputs": [],
   "source": [
    "dataset = random_walk_timeseries(start = pd.Timestamp(year=2000, month=1, day=1),\n",
    "                                 end   = pd.Timestamp(year=2001, month=1, day=1))\n",
    "plt.figure(figsize=(8, 2))\n",
    "dataset.plot(label='Time Series')\n",
    "plt.title('Random Walk Time Series')\n",
    "plt.ylabel('Amplitude')\n",
    "plt.xlabel('Date')\n",
    "plt.legend()\n",
    "print(len(dataset))"
   ]
  },
  {
   "cell_type": "code",
   "execution_count": null,
   "metadata": {},
   "outputs": [],
   "source": [
    "plt.figure(figsize=(8, 4))\n",
    "autocorrelation_plot(dataset.pd_dataframe())"
   ]
  },
  {
   "cell_type": "code",
   "execution_count": null,
   "metadata": {},
   "outputs": [],
   "source": [
    "plot_hist(dataset, density=True, fig_size=(10,4))"
   ]
  },
  {
   "cell_type": "code",
   "execution_count": null,
   "metadata": {},
   "outputs": [],
   "source": [
    "# scaled time series\n",
    "scaler = Scaler()\n",
    "scaled_series = scaler.fit_transform(dataset.copy())"
   ]
  },
  {
   "cell_type": "code",
   "execution_count": null,
   "metadata": {},
   "outputs": [],
   "source": [
    "train_size = int(0.7 * len(scaled_series)) # 70% to train\n",
    "valid_size = int(0.2 * len(scaled_series)) # 20% to validation\n",
    "test_size  = int(0.1 * len(scaled_series)) # 10% to test\n",
    "\n",
    "train = scaled_series[ : train_size]\n",
    "val   = scaled_series[train_size : train_size + valid_size]\n",
    "test  = scaled_series[train_size + valid_size : train_size + valid_size + test_size]\n",
    "\n",
    "plt.figure(figsize=(8, 2))\n",
    "train.plot(label='Train series')\n",
    "val.plot(label='Validation series')\n",
    "test.plot(label='Test series')\n",
    "plt.title('Random Walk Time Series')\n",
    "plt.ylabel('Amplitude')\n",
    "plt.xlabel('Date')\n",
    "plt.legend()"
   ]
  },
  {
   "cell_type": "markdown",
   "metadata": {},
   "source": [
    "#### Models implementation"
   ]
  },
  {
   "cell_type": "code",
   "execution_count": null,
   "metadata": {},
   "outputs": [],
   "source": [
    "# General parameters\n",
    "input_size  = 2 * len(test)\n",
    "output_size = len(test)\n",
    "n_epochs    = 10 # number of epochs to ML-based models\n",
    "batch_size  = 32\n",
    "\n",
    "if torch.cuda.is_available():\n",
    "    pl_trainer_kwargs = {'accelerator'      : 'gpu',\n",
    "                         'devices'          : -1,\n",
    "                         'auto_select_gpus' : True}\n",
    "else:\n",
    "    pl_trainer_kwargs = {'accelerator' : 'cpu'}"
   ]
  },
  {
   "cell_type": "code",
   "execution_count": null,
   "metadata": {},
   "outputs": [],
   "source": [
    "from darts.models.forecasting.regression_model import RegressionModel\n",
    "from darts.models.forecasting.auto_arima import AutoARIMA\n",
    "from darts.models.forecasting.nbeats import NBEATSModel\n",
    "from darts.models.forecasting.nhits import NHiTSModel\n",
    "from darts.models.forecasting.transformer_model import TransformerModel\n",
    "\n",
    "models = {'RegressionModel': RegressionModel(lags = input_size,\n",
    "                                             output_chunk_length = output_size),\n",
    "          'ARIMA': AutoARIMA(random_state = random_state),\n",
    "          'NBEATS': NBEATSModel(input_chunk_length = input_size,\n",
    "                                output_chunk_length = output_size,\n",
    "                                n_epochs = n_epochs,\n",
    "                                batch_size = batch_size,\n",
    "                                pl_trainer_kwargs = pl_trainer_kwargs,\n",
    "                                generic_architecture = True,\n",
    "                                random_state = random_state),\n",
    "          'NHiTS': NHiTSModel(input_chunk_length = input_size,\n",
    "                              output_chunk_length = output_size,\n",
    "                              n_epochs = n_epochs,\n",
    "                              batch_size = batch_size,\n",
    "                              pl_trainer_kwargs = pl_trainer_kwargs),\n",
    "          'TransformerModel': TransformerModel(input_chunk_length = input_size,\n",
    "                                               output_chunk_length = output_size,\n",
    "                                               pl_trainer_kwargs = pl_trainer_kwargs,\n",
    "                                               random_state = random_state)}"
   ]
  },
  {
   "cell_type": "code",
   "execution_count": null,
   "metadata": {},
   "outputs": [],
   "source": [
    "fitted_models = {}\n",
    "for name, model in models.items():\n",
    "    fitted_models[name] = model.fit(train)\n"
   ]
  }
 ],
 "metadata": {
  "kernelspec": {
   "display_name": "ml_applications",
   "language": "python",
   "name": "python3"
  },
  "language_info": {
   "codemirror_mode": {
    "name": "ipython",
    "version": 3
   },
   "file_extension": ".py",
   "mimetype": "text/x-python",
   "name": "python",
   "nbconvert_exporter": "python",
   "pygments_lexer": "ipython3",
   "version": "3.10.12"
  },
  "orig_nbformat": 4
 },
 "nbformat": 4,
 "nbformat_minor": 2
}
